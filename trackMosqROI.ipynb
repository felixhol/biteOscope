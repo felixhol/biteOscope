{
 "cells": [
  {
   "cell_type": "code",
   "execution_count": null,
   "metadata": {},
   "outputs": [],
   "source": [
    "'''\n",
    "author: Felix Hol\n",
    "date: 2020 Oct 20\n",
    "content: code to check presence of a mosquito in an (arbitrarly shaped) ROI\n",
    "Takes tracked data from trackMosq as input and a mask indicating the ROI. \n",
    "'''\n",
    "\n",
    "%matplotlib inline\n",
    "import matplotlib as mpl\n",
    "import matplotlib.pyplot as plt\n",
    "import numpy as np\n",
    "import os\n",
    "import itertools as it\n",
    "import pandas as pd\n",
    "import pims\n",
    "import skimage\n",
    "from skimage import data, io, util\n",
    "from skimage.measure import label, regionprops\n",
    "from skimage.morphology import binary_dilation, erosion, dilation, opening, binary_closing, closing, white_tophat, remove_small_objects, disk, black_tophat, skeletonize, convex_hull_image\n",
    "import scipy\n",
    "import trackpy as tp\n",
    "import pylab\n",
    "import math\n",
    "from joblib import Parallel, delayed\n",
    "import multiprocessing\n",
    "from datetime import datetime\n",
    "from tqdm import tnrange, tqdm\n",
    "import pickle\n",
    "import glob\n",
    "import cv2 as cv"
   ]
  },
  {
   "cell_type": "code",
   "execution_count": null,
   "metadata": {},
   "outputs": [],
   "source": [
    "#### set directories where to get images and where to store output, and specifics of experiment\n",
    "\n",
    "# dataDir = '/run/user/1001/gvfs/smb-share:server=gaia.pasteur.fr,share=%40ivi/BITES_BLOOD_BEHAVIOR/P3/200923_KPPTN/ctrl02/'\n",
    "dataDir = '/mnt/DATA/biteData/P3/200930_KPPTN/denv04/'\n",
    "saveDir = '/home/felix/biteData/P3/200930_processed/'\n",
    "species = 'aeg'\n",
    "mosAge = 21      #### mosquito age in days\n",
    "mosDataName = 'aeg_denv04_0930'\n",
    "frames = pims.ImageSequence(dataDir+'/*.png')"
   ]
  },
  {
   "cell_type": "code",
   "execution_count": null,
   "metadata": {},
   "outputs": [],
   "source": [
    "trackPickleName = saveDir + mosDataName + '_tracks.pkl'\n",
    "tFull = pd.read_pickle(trackPickleName)"
   ]
  },
  {
   "cell_type": "code",
   "execution_count": null,
   "metadata": {},
   "outputs": [],
   "source": [
    "#### read image containing mask - maks can e.g. be made in ImageJ \n",
    "#### by drawing with freehand tool and using 'edit' -> 'clear outside'\n",
    "\n",
    "masks = pims.ImageSequence('/home/felix/biteData'+'/*.png')"
   ]
  },
  {
   "cell_type": "code",
   "execution_count": null,
   "metadata": {},
   "outputs": [],
   "source": [
    "plt.imshow(masks[1])"
   ]
  },
  {
   "cell_type": "code",
   "execution_count": null,
   "metadata": {},
   "outputs": [],
   "source": [
    "mask = masks[1]"
   ]
  },
  {
   "cell_type": "code",
   "execution_count": null,
   "metadata": {},
   "outputs": [],
   "source": [
    "plt.imshow(mask)"
   ]
  },
  {
   "cell_type": "code",
   "execution_count": null,
   "metadata": {},
   "outputs": [],
   "source": [
    "cnts, hierarchy = cv.findContours(mask, cv.RETR_EXTERNAL, cv.CHAIN_APPROX_SIMPLE)"
   ]
  },
  {
   "cell_type": "code",
   "execution_count": null,
   "metadata": {},
   "outputs": [],
   "source": [
    "cnts[0]"
   ]
  },
  {
   "cell_type": "code",
   "execution_count": null,
   "metadata": {},
   "outputs": [],
   "source": [
    "tROI = tFull.copy()\n",
    "tROI['roi'] = np.nan\n",
    "\n",
    "for index, row in tROI.iterrows():\n",
    "    if cv.pointPolygonTest(cnts[0], (row.x, row.y), False) == -1.0:\n",
    "        tROI.loc[index, 'roi'] = 0\n",
    "    elif cv.pointPolygonTest(cnts[0], (row.x, row.y), False) == 1.0:\n",
    "        tROI.loc[index, 'roi'] = 1"
   ]
  },
  {
   "cell_type": "code",
   "execution_count": null,
   "metadata": {},
   "outputs": [],
   "source": [
    "plt.figure(figsize=(18,12))\n",
    "plt.imshow(frames[5000], cmap = 'gray')\n",
    "# plt.imshow(eroded)\n",
    "# plt.plot(coordinatesF[:,1],coordinatesF[:,0],'r.')\n",
    "plt.plot(tROI.loc[tROI['roi'] == 0].x, tROI.loc[tROI['roi'] == 0].y,'c.', alpha=0.5)\n",
    "plt.plot(tROI.loc[tROI['roi'] == 1].x, tROI.loc[tROI['roi'] == 1].y,'m.', alpha=0.5)"
   ]
  },
  {
   "cell_type": "code",
   "execution_count": null,
   "metadata": {},
   "outputs": [],
   "source": [
    "len(tROI.loc[tROI['roi'] == 1]) / np.sum(mask>0)"
   ]
  },
  {
   "cell_type": "code",
   "execution_count": null,
   "metadata": {},
   "outputs": [],
   "source": [
    "len(tROI.loc[tROI['roi'] == 0]) / np.sum(mask<1)"
   ]
  },
  {
   "cell_type": "code",
   "execution_count": null,
   "metadata": {},
   "outputs": [],
   "source": [
    "(len(tROI.loc[tROI['roi'] == 1]) / np.sum(mask>0)) / (len(tROI.loc[tROI['roi'] == 0]) / np.sum(mask<1))"
   ]
  },
  {
   "cell_type": "code",
   "execution_count": null,
   "metadata": {},
   "outputs": [],
   "source": []
  },
  {
   "cell_type": "code",
   "execution_count": null,
   "metadata": {},
   "outputs": [],
   "source": []
  }
 ],
 "metadata": {
  "kernelspec": {
   "display_name": "bs",
   "language": "python",
   "name": "bs"
  },
  "language_info": {
   "codemirror_mode": {
    "name": "ipython",
    "version": 3
   },
   "file_extension": ".py",
   "mimetype": "text/x-python",
   "name": "python",
   "nbconvert_exporter": "python",
   "pygments_lexer": "ipython3",
   "version": "3.6.8"
  },
  "varInspector": {
   "cols": {
    "lenName": 16,
    "lenType": 16,
    "lenVar": 40
   },
   "kernels_config": {
    "python": {
     "delete_cmd_postfix": "",
     "delete_cmd_prefix": "del ",
     "library": "var_list.py",
     "varRefreshCmd": "print(var_dic_list())"
    },
    "r": {
     "delete_cmd_postfix": ") ",
     "delete_cmd_prefix": "rm(",
     "library": "var_list.r",
     "varRefreshCmd": "cat(var_dic_list()) "
    }
   },
   "types_to_exclude": [
    "module",
    "function",
    "builtin_function_or_method",
    "instance",
    "_Feature"
   ],
   "window_display": false
  }
 },
 "nbformat": 4,
 "nbformat_minor": 2
}
