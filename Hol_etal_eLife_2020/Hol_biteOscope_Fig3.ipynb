{
 "cells": [
  {
   "cell_type": "code",
   "execution_count": 1,
   "metadata": {},
   "outputs": [],
   "source": [
    "'''\n",
    "author: Felix Hol\n",
    "date: 2020 \n",
    "content: code to reproduce Figure 3 of Hol et al biteOscope manuscript\n",
    "'''\n",
    "\n",
    "import numpy as np\n",
    "%matplotlib inline\n",
    "import matplotlib as mpl\n",
    "import matplotlib.pyplot as plt\n",
    "import os\n",
    "import pandas as pd\n",
    "from pandas import DataFrame, Series  # for convenience\n",
    "import scipy\n",
    "import pickle\n",
    "import glob\n",
    "import seaborn as sns\n",
    "\n",
    "mpl.rcParams['pdf.fonttype'] = 42\n",
    "mpl.rcParams['ps.fonttype'] = 42\n",
    "mpl.rcParams['font.sans-serif'] = \"Arial\"\n",
    "mpl.rcParams['font.family'] = \"sans-serif\""
   ]
  },
  {
   "cell_type": "code",
   "execution_count": 6,
   "metadata": {},
   "outputs": [],
   "source": [
    "dataDir = '/Users/felix/Documents/mosquitoes/mosquitoData/biteData/albopictus/alboUpload/'\n",
    "species = 'alb'\n",
    "mosAge = 18\n",
    "ccc = plt.cm.get_cmap('plasma', 6)"
   ]
  },
  {
   "cell_type": "code",
   "execution_count": 3,
   "metadata": {},
   "outputs": [
    {
     "data": {
      "image/png": "[encoded data removed]",
      "text/plain": [
       "<matplotlib.figure.Figure at 0x11a5f6240>"
      ]
     },
     "metadata": {
      "needs_background": "light"
     },
     "output_type": "display_data"
    }
   ],
   "source": [
    "dirList = glob.glob('/Users/felix/Documents/mosquitoes/mosquitoData/biteData/albopictus/alboUpload/19*_NoATP_*/')\n",
    "\n",
    "fig = plt.figure(figsize=(22,6))\n",
    "ax = fig.add_subplot(1, 1, 1)\n",
    "iM = 0\n",
    "\n",
    "for D in dirList:\n",
    "    pickleListStats = glob.glob(D + '/19*/*tStats.pkl')\n",
    "    iM = iM + 0.2\n",
    "    for i in pickleListStats:\n",
    "        with open(i, \"rb\") as input_file:\n",
    "            tStats = pickle.load(input_file)\n",
    "            tStats.dropna(subset=['velocity'], inplace=True)\n",
    "            tStats['smoothV'] = tStats.velocity.rolling(window=5).mean()\n",
    "            tStats.dropna(subset=['smoothV'], inplace=True)\n",
    "            p = tStats.frame\n",
    "    #         iM = iM + 0.2\n",
    "            ph = np.full((len(p)), iM)\n",
    "            P = [p,ph]\n",
    "            P_zipped = zip(*P)\n",
    "            for P_x, P_y in P_zipped:\n",
    "                if tStats.loc[tStats['frame'] == P_x].smoothV.values > 12:\n",
    "                    ax.add_patch(plt.Rectangle((P_x, P_y), 30, 0.1, color=ccc(4), ec=None))\n",
    "                elif tStats.loc[tStats['frame'] == P_x].smoothV.values > 2.0:\n",
    "                    ax.add_patch(plt.Rectangle((P_x, P_y), 4, 0.1, color=ccc(2), ec=None))\n",
    "                else:\n",
    "                    ax.add_patch(plt.Rectangle((P_x, P_y), 4, 0.1, color=ccc(0), ec=None))\n",
    "\n",
    "_=plt.xlim([0, 15000])\n",
    "_=plt.ylim([0.1, 0.2 + iM])\n",
    "_=plt.xlabel('time (min)')\n",
    "\n",
    "\n",
    "\n",
    "_=plt.yticks(np.arange(0.25, iM +0.1, 0.2), ('M1', 'M2','M3','M4','M5','M6','M7','M8','M9', 'M10'))\n",
    "_=plt.xticks(np.arange(0, 15001, 1500), np.arange(0,11,1))\n",
    "\n",
    "# plt.savefig(saveDir + '/ethoAlbNoATP_th01.pdf')"
   ]
  },
  {
   "cell_type": "code",
   "execution_count": 4,
   "metadata": {},
   "outputs": [
    {
     "name": "stderr",
     "output_type": "stream",
     "text": [
      "/usr/local/lib/python3.6/site-packages/ipykernel_launcher.py:24: RuntimeWarning: invalid value encountered in greater\n"
     ]
    },
    {
     "data": {
      "image/png": "[encoded data removed]",
      "text/plain": [
       "<matplotlib.figure.Figure at 0x11a92f278>"
      ]
     },
     "metadata": {
      "needs_background": "light"
     },
     "output_type": "display_data"
    }
   ],
   "source": [
    "dirList = glob.glob('/Users/felix/Documents/mosquitoes/mosquitoData/biteData/albopictus/alboUpload/19*YesATP*/')\n",
    "\n",
    "fig = plt.figure(figsize=(22,6))\n",
    "ax = fig.add_subplot(1, 1, 1)\n",
    "iM = 0\n",
    "\n",
    "areaThreshold = 7000\n",
    "engorgementIncrease = 1.22\n",
    "\n",
    "for D in dirList:\n",
    "    pickleListStats = glob.glob(D + '/19*/*tStats.pkl')\n",
    "    iM = iM + 0.2\n",
    "    for i in pickleListStats:\n",
    "        with open(i, \"rb\") as input_file:\n",
    "            tStats = pickle.load(input_file)\n",
    "            tStats.dropna(subset=['velocity'], inplace=True)\n",
    "            tStats['smoothV'] = tStats.velocity.rolling(window=5).mean()\n",
    "            tStats.dropna(subset=['smoothV'], inplace=True)\n",
    "            tStatsE = tStats.copy()\n",
    "            tStatsE[\"engorged\"] = 0\n",
    "            belly = np.copy(tStatsE.bellyArea)\n",
    "            if len(belly) > 100:\n",
    "                belly[belly < 2000] = np.nan\n",
    "                belly[belly > 8500] = np.nan\n",
    "                if np.nanpercentile(belly[0:80], 80) > areaThreshold:\n",
    "                    tStatsE[\"engorged\"] = 2\n",
    "                else:\n",
    "                    if np.nanpercentile(belly[11:3000], 90) > 5500 and np.nanpercentile(belly[0:3000], 90) / np.nanpercentile(belly, 15) > engorgementIncrease:\n",
    "                        tStatsE.loc[tStatsE['bellyArea'] > np.nanpercentile(belly, 90), 'engorged'] = 1\n",
    "            tStatsT = tStatsE.copy()\n",
    "            if np.max(tStatsE.engorged) > 0:\n",
    "#                 print(D)\n",
    "                tStatsT = tStatsE.truncate(after=tStatsE.engorged.idxmax())\n",
    "            p = tStatsT.frame\n",
    "    #         iM = iM + 0.2\n",
    "            ph = np.full((len(p)), iM)\n",
    "            P = [p,ph]\n",
    "            P_zipped = zip(*P)\n",
    "            for P_x, P_y in P_zipped:\n",
    "                if tStats.loc[tStats['frame'] == P_x].smoothV.values > 12:\n",
    "                    ax.add_patch(plt.Rectangle((P_x, P_y), 30, 0.1, color=ccc(4), ec=None))\n",
    "                elif tStats.loc[tStats['frame'] == P_x].smoothV.values > 2.0:\n",
    "                    ax.add_patch(plt.Rectangle((P_x, P_y), 4, 0.1, color=ccc(2), ec=None))\n",
    "                else:\n",
    "                    ax.add_patch(plt.Rectangle((P_x, P_y), 4, 0.1, color=ccc(0), ec=None))\n",
    "            if np.max(tStatsE.engorged) > 0:\n",
    "                ax.add_patch(plt.Rectangle((tStatsT.loc[tStatsE.engorged.idxmax()].frame, P_y - 0.04), 300, 0.18, color='k', ec=None))\n",
    "                \n",
    "            \n",
    "\n",
    "_=plt.xlim([0, 15000])\n",
    "_=plt.ylim([0.1, 0.2 + iM])\n",
    "_=plt.yticks(np.arange(0.25, iM +0.1, 0.2), ('M1', 'M2','M3','M4','M5','M6','M7','M8','M9'))\n",
    "_=plt.xlabel('time (min)')\n",
    "\n",
    "_=plt.xticks(np.arange(0, 15001, 1500), np.arange(0,11,1))\n",
    "\n",
    "# plt.savefig(saveDir + '/ethoAlbYesATP_th01.pdf')"
   ]
  },
  {
   "cell_type": "code",
   "execution_count": 7,
   "metadata": {},
   "outputs": [
    {
     "name": "stderr",
     "output_type": "stream",
     "text": [
      "/usr/local/lib/python3.6/site-packages/ipykernel_launcher.py:34: RuntimeWarning: invalid value encountered in less\n",
      "/usr/local/lib/python3.6/site-packages/ipykernel_launcher.py:35: RuntimeWarning: invalid value encountered in greater\n",
      "/usr/local/lib/python3.6/site-packages/numpy/lib/function_base.py:3250: RuntimeWarning: All-NaN slice encountered\n",
      "  r = func(a, **kwargs)\n"
     ]
    }
   ],
   "source": [
    "pickleListStats = glob.glob(dataDir + '/19*No*/19*/*tStats.pkl')\n",
    "mosDataExp = pd.DataFrame(columns=['p','mID', 'totDist','totTime','numLandings', 'meanSpeed', 'topSpeed', 'bellyWidthT', 'bellyAreaT'])\n",
    "tTest = pd.DataFrame()\n",
    "\n",
    "\n",
    "for i in pickleListStats:\n",
    "    with open(i, \"rb\") as input_file:\n",
    "        tTest = pickle.load(input_file)       \n",
    "    mosDataExp = mosDataExp.append({'p': np.min(tTest.particle),\n",
    "            'mID': i[99:120],\n",
    "           'totDist': np.sum(tTest.distance),\n",
    "            'totTime': np.max(tTest.frame) - np.min(tTest.frame),\n",
    "             'numLandings': len(pickleListStats),                      \n",
    "           'meanSpeed': np.nanmean(tTest.velocity),\n",
    "           'topSpeed': np.nanpercentile(tTest.velocity,95),\n",
    "            'bellyWidthT': tTest.bellyWidth.values, \n",
    "            'bellyAreaT': tTest.bellyArea.values},\n",
    "            ignore_index=True)\n",
    "\n",
    "    mosDataE = mosDataExp.copy()\n",
    "    mosDataE[\"engorged\"] = ''\n",
    "    mosDataE[\"engorgementTime\"] = ''\n",
    "    mosDataE[\"species\"] = species\n",
    "    mosDataE[\"age\"] = mosAge\n",
    "    areaThreshold = 7000\n",
    "    engorgementIncrease = 1.22\n",
    "\n",
    "    for i in range(0, len(mosDataE)):\n",
    "        belly = np.copy(mosDataE.iloc[i].bellyAreaT)\n",
    "        if len(belly) < 50:\n",
    "            mosDataE.at[i, 'engorged'] = 0\n",
    "            mosDataE.at[i, 'engorgementTime'] = np.nan\n",
    "        else:\n",
    "            belly[belly < 2000] = np.nan\n",
    "            belly[belly > 8500] = np.nan\n",
    "            if np.nanpercentile(belly[0:80], 80) > areaThreshold:\n",
    "                mosDataE.at[i, 'engorged'] = 2\n",
    "                mosDataE.at[i, 'engorgementTime'] = np.nan\n",
    "            else:\n",
    "                if np.nanpercentile(belly[11:3000], 90) > 5500 and np.nanpercentile(belly[0:3000], 90) / np.nanpercentile(belly, 15) > engorgementIncrease:\n",
    "                    mosDataE.at[i, 'engorged'] = 1\n",
    "                    mosDataE.at[i, 'engorgementTime'] = np.where(belly[10:] > np.nanpercentile(belly, 90))[0][0]\n",
    "                else:\n",
    "                    mosDataE.at[i, 'engorged'] = 0\n",
    "                    mosDataE.at[i, 'engorgementTime'] = np.nan\n",
    "                    \n",
    "mNoParticles = mosDataE.copy()\n"
   ]
  },
  {
   "cell_type": "code",
   "execution_count": 8,
   "metadata": {},
   "outputs": [
    {
     "name": "stderr",
     "output_type": "stream",
     "text": [
      "/usr/local/lib/python3.6/site-packages/ipykernel_launcher.py:34: RuntimeWarning: invalid value encountered in less\n",
      "/usr/local/lib/python3.6/site-packages/ipykernel_launcher.py:35: RuntimeWarning: invalid value encountered in greater\n",
      "/usr/local/lib/python3.6/site-packages/ipykernel_launcher.py:42: RuntimeWarning: invalid value encountered in greater\n"
     ]
    }
   ],
   "source": [
    "pickleListStats = glob.glob(dataDir + '/19*Yes*/19*/*tStats.pkl')\n",
    "mosDataExp = pd.DataFrame(columns=['p','mID', 'totDist','totTime','numLandings', 'meanSpeed', 'topSpeed', 'bellyWidthT', 'bellyAreaT'])\n",
    "tTest = pd.DataFrame()\n",
    "\n",
    "\n",
    "for i in pickleListStats:\n",
    "    with open(i, \"rb\") as input_file:\n",
    "        tTest = pickle.load(input_file)\n",
    "    mosDataExp = mosDataExp.append({'p': np.min(tTest.particle),\n",
    "            'mID': i[99:120],\n",
    "           'totDist': np.sum(tTest.distance),\n",
    "            'totTime': np.max(tTest.frame) - np.min(tTest.frame),\n",
    "             'numLandings': len(pickleListStats),                      \n",
    "           'meanSpeed': np.nanmean(tTest.velocity),\n",
    "           'topSpeed': np.nanpercentile(tTest.velocity,95),\n",
    "            'bellyWidthT': tTest.bellyWidth.values, \n",
    "            'bellyAreaT': tTest.bellyArea.values},\n",
    "            ignore_index=True)\n",
    "\n",
    "    mosDataE = mosDataExp.copy()\n",
    "    mosDataE[\"engorged\"] = ''\n",
    "    mosDataE[\"engorgementTime\"] = ''\n",
    "    mosDataE[\"species\"] = species\n",
    "    mosDataE[\"age\"] = mosAge\n",
    "    areaThreshold = 7000\n",
    "    engorgementIncrease = 1.22\n",
    "\n",
    "    for i in range(0, len(mosDataE)):\n",
    "        belly = np.copy(mosDataE.iloc[i].bellyAreaT)\n",
    "        if len(belly) < 50:\n",
    "            mosDataE.at[i, 'engorged'] = 0\n",
    "            mosDataE.at[i, 'engorgementTime'] = np.nan\n",
    "        else:\n",
    "            belly[belly < 2000] = np.nan\n",
    "            belly[belly > 8500] = np.nan\n",
    "            if np.nanpercentile(belly[0:80], 80) > areaThreshold:\n",
    "                mosDataE.at[i, 'engorged'] = 2\n",
    "                mosDataE.at[i, 'engorgementTime'] = np.nan\n",
    "            else:\n",
    "                if np.nanpercentile(belly[11:3000], 90) > 5500 and np.nanpercentile(belly[0:3000], 90) / np.nanpercentile(belly, 15) > engorgementIncrease:\n",
    "                    mosDataE.at[i, 'engorged'] = 1\n",
    "                    mosDataE.at[i, 'engorgementTime'] = np.where(belly[10:] > np.nanpercentile(belly, 90))[0][0]\n",
    "                else:\n",
    "                    mosDataE.at[i, 'engorged'] = 0\n",
    "                    mosDataE.at[i, 'engorgementTime'] = np.nan\n",
    "                    \n",
    "mYesParticles = mosDataE.copy()\n"
   ]
  },
  {
   "cell_type": "code",
   "execution_count": 9,
   "metadata": {},
   "outputs": [],
   "source": [
    "engorgedParticles = mYesParticles.loc[mYesParticles['engorged'] == 1]"
   ]
  },
  {
   "cell_type": "code",
   "execution_count": 10,
   "metadata": {},
   "outputs": [],
   "source": [
    "allParticles = engorgedParticles.append(mNoParticles, ignore_index=True)"
   ]
  },
  {
   "cell_type": "code",
   "execution_count": 11,
   "metadata": {},
   "outputs": [],
   "source": [
    "mP = allParticles.copy()\n",
    "mP['logTotTime'] = np.log10(mP['totTime'].astype(float) / 25)"
   ]
  },
  {
   "cell_type": "code",
   "execution_count": 12,
   "metadata": {},
   "outputs": [
    {
     "name": "stderr",
     "output_type": "stream",
     "text": [
      "/usr/local/lib/python3.6/site-packages/ipykernel_launcher.py:41: RuntimeWarning: invalid value encountered in less\n",
      "/usr/local/lib/python3.6/site-packages/ipykernel_launcher.py:42: RuntimeWarning: invalid value encountered in greater\n",
      "/usr/local/lib/python3.6/site-packages/ipykernel_launcher.py:49: RuntimeWarning: invalid value encountered in greater\n"
     ]
    }
   ],
   "source": [
    "mosDirs_yes = glob.glob(dataDir + '/19*Yes*/')\n",
    "mD_yes = pd.DataFrame()\n",
    "\n",
    "for j in mosDirs_yes:\n",
    "    pickleListStats = glob.glob(j + '/19*/*tStats.pkl')\n",
    "    mosDataExp = pd.DataFrame(columns=['p','mID', 'totDist','totTime','numLandings', 'meanSpeed', 'topSpeed', 'bellyWidthT', 'bellyAreaT'])\n",
    "    tTest = pd.DataFrame()\n",
    "\n",
    "\n",
    "    for i in pickleListStats:\n",
    "        with open(i, \"rb\") as input_file:\n",
    "            currT = pickle.load(input_file)\n",
    "            tTest = tTest.append(currT)\n",
    "\n",
    "\n",
    "    mosDataExp = mosDataExp.append({'p': np.min(tTest.particle),\n",
    "            'mID': i[99:120],\n",
    "           'totDist': np.sum(tTest.distance),\n",
    "            'totTime': len(tTest),\n",
    "             'numLandings': len(pickleListStats),                      \n",
    "           'meanSpeed': np.nanmean(tTest.velocity),\n",
    "           'topSpeed': np.nanpercentile(tTest.velocity,95),\n",
    "            'bellyWidthT': tTest.bellyWidth.values, \n",
    "            'bellyAreaT': tTest.bellyArea.values},\n",
    "            ignore_index=True)\n",
    "\n",
    "    mosDataE = mosDataExp.copy()\n",
    "    mosDataE[\"engorged\"] = ''\n",
    "    mosDataE[\"engorgementTime\"] = ''\n",
    "    mosDataE[\"species\"] = species\n",
    "    mosDataE[\"age\"] = mosAge\n",
    "    areaThreshold = 7000\n",
    "    engorgementIncrease = 1.22\n",
    "\n",
    "    for i in range(0, len(mosDataE)):\n",
    "        belly = np.copy(mosDataE.iloc[i].bellyAreaT)\n",
    "        if len(belly) < 50:\n",
    "            mosDataE.at[i, 'engorged'] = 0\n",
    "            mosDataE.at[i, 'engorgementTime'] = np.nan\n",
    "        else:\n",
    "            belly[belly < 2000] = np.nan\n",
    "            belly[belly > 8500] = np.nan\n",
    "            if np.nanpercentile(belly[0:80], 80) > areaThreshold:\n",
    "                mosDataE.at[i, 'engorged'] = 2\n",
    "                mosDataE.at[i, 'engorgementTime'] = np.nan\n",
    "            else:\n",
    "                if np.nanpercentile(belly[11:3000], 90) > 5500 and np.nanpercentile(belly[0:3000], 90) / np.nanpercentile(belly, 15) > engorgementIncrease:\n",
    "                    mosDataE.at[i, 'engorged'] = 1\n",
    "                    mosDataE.at[i, 'engorgementTime'] = np.where(belly[10:] > np.nanpercentile(belly, 90))[0][0]\n",
    "                else:\n",
    "                    mosDataE.at[i, 'engorged'] = 0\n",
    "                    mosDataE.at[i, 'engorgementTime'] = np.nan\n",
    "    mD_yes = mD_yes.append(mosDataE, ignore_index=True)"
   ]
  },
  {
   "cell_type": "code",
   "execution_count": 13,
   "metadata": {},
   "outputs": [
    {
     "name": "stderr",
     "output_type": "stream",
     "text": [
      "/usr/local/lib/python3.6/site-packages/ipykernel_launcher.py:41: RuntimeWarning: invalid value encountered in less\n",
      "/usr/local/lib/python3.6/site-packages/ipykernel_launcher.py:42: RuntimeWarning: invalid value encountered in greater\n"
     ]
    }
   ],
   "source": [
    "mosDirs_no = glob.glob(dataDir + '/19*No*/')\n",
    "mD_no = pd.DataFrame()\n",
    "\n",
    "for j in mosDirs_no:\n",
    "    pickleListStats = glob.glob(j + '/19*/*tStats.pkl')\n",
    "    mosDataExp = pd.DataFrame(columns=['p','mID', 'totDist','totTime','numLandings', 'meanSpeed', 'topSpeed', 'bellyWidthT', 'bellyAreaT'])\n",
    "    tTest = pd.DataFrame()\n",
    "\n",
    "\n",
    "    for i in pickleListStats:\n",
    "        with open(i, \"rb\") as input_file:\n",
    "            currT = pickle.load(input_file)\n",
    "            tTest = tTest.append(currT)\n",
    "\n",
    "\n",
    "    mosDataExp = mosDataExp.append({'p': np.min(tTest.particle),\n",
    "            'mID': i[99:120],\n",
    "           'totDist': np.sum(tTest.distance),\n",
    "            'totTime': len(tTest),\n",
    "             'numLandings': len(pickleListStats),                      \n",
    "           'meanSpeed': np.nanmean(tTest.velocity),\n",
    "           'topSpeed': np.nanpercentile(tTest.velocity,95),\n",
    "            'bellyWidthT': tTest.bellyWidth.values, \n",
    "            'bellyAreaT': tTest.bellyArea.values},\n",
    "            ignore_index=True)\n",
    "\n",
    "    mosDataE = mosDataExp.copy()\n",
    "    mosDataE[\"engorged\"] = ''\n",
    "    mosDataE[\"engorgementTime\"] = ''\n",
    "    mosDataE[\"species\"] = species\n",
    "    mosDataE[\"age\"] = mosAge\n",
    "    areaThreshold = 7000\n",
    "    engorgementIncrease = 1.22\n",
    "\n",
    "    for i in range(0, len(mosDataE)):\n",
    "        belly = np.copy(mosDataE.iloc[i].bellyAreaT)\n",
    "        if len(belly) < 50:\n",
    "            mosDataE.at[i, 'engorged'] = 0\n",
    "            mosDataE.at[i, 'engorgementTime'] = np.nan\n",
    "        else:\n",
    "            belly[belly < 2000] = np.nan\n",
    "            belly[belly > 8500] = np.nan\n",
    "            if np.nanpercentile(belly[0:80], 80) > areaThreshold:\n",
    "                mosDataE.at[i, 'engorged'] = 2\n",
    "                mosDataE.at[i, 'engorgementTime'] = np.nan\n",
    "            else:\n",
    "                if np.nanpercentile(belly[11:3000], 90) > 5500 and np.nanpercentile(belly[0:3000], 90) / np.nanpercentile(belly, 15) > engorgementIncrease:\n",
    "                    mosDataE.at[i, 'engorged'] = 1\n",
    "                    mosDataE.at[i, 'engorgementTime'] = np.where(belly[10:] > np.nanpercentile(belly, 90))[0][0]\n",
    "                else:\n",
    "                    mosDataE.at[i, 'engorged'] = 0\n",
    "                    mosDataE.at[i, 'engorgementTime'] = np.nan\n",
    "    mD_no = mD_no.append(mosDataE, ignore_index=True)"
   ]
  },
  {
   "cell_type": "code",
   "execution_count": 14,
   "metadata": {},
   "outputs": [],
   "source": [
    "mYesATP = mD_yes.loc[mD_yes['engorged'] == 1].copy()\n",
    "mBoth = mYesATP.append(mD_no, ignore_index=True)"
   ]
  },
  {
   "cell_type": "code",
   "execution_count": 15,
   "metadata": {},
   "outputs": [],
   "source": [
    "mBothE = mBoth.copy()\n",
    "mBothE.loc[mBothE['engorged'] == 0, 'timeE'] = mBothE.loc[mBothE['engorged'] == 0, 'totTime'] / 25\n",
    "mBothE.loc[mBothE['engorged'] == 1, 'timeE'] = mBothE.loc[mBothE['engorged'] == 1, 'engorgementTime'] / 25"
   ]
  },
  {
   "cell_type": "code",
   "execution_count": 16,
   "metadata": {},
   "outputs": [
    {
     "name": "stderr",
     "output_type": "stream",
     "text": [
      "/usr/local/lib/python3.6/site-packages/scipy/stats/stats.py:1713: FutureWarning: Using a non-tuple sequence for multidimensional indexing is deprecated; use `arr[tuple(seq)]` instead of `arr[seq]`. In the future this will be interpreted as an array index, `arr[np.array(seq)]`, which will result either in an error or a different result.\n",
      "  return np.add.reduce(sorted[indexer] * weights, axis=axis) / sumval\n"
     ]
    },
    {
     "data": {
      "image/png": "[encoded data removed]",
      "text/plain": [
       "<matplotlib.figure.Figure at 0x11a695eb8>"
      ]
     },
     "metadata": {
      "needs_background": "light"
     },
     "output_type": "display_data"
    }
   ],
   "source": [
    "fig, ax = plt.subplots(figsize=(5,8))\n",
    "ax = sns.pointplot(data=mBothE, x='engorged', y='timeE', color='k', join=False)\n",
    "sns.stripplot(data=mBothE, x='engorged', y='timeE', jitter=0.13, size=12, alpha=0.5, color='indigo')# cmap=sns.color_palette(\"husl\", 8))\n",
    "_=ax.set_ylabel('total time (s)')"
   ]
  },
  {
   "cell_type": "code",
   "execution_count": 17,
   "metadata": {},
   "outputs": [
    {
     "data": {
      "image/png": "[encoded data removed]",
      "text/plain": [
       "<matplotlib.figure.Figure at 0x11aa7f6a0>"
      ]
     },
     "metadata": {
      "needs_background": "light"
     },
     "output_type": "display_data"
    }
   ],
   "source": [
    "fig, ax = plt.subplots(figsize=(5,8))\n",
    "ax = sns.pointplot(data=mBothE, x='engorged', y='numLandings', color='k', join=False)\n",
    "sns.stripplot(data=mBothE, x='engorged', y='numLandings', size=12, alpha=0.5, color='indigo') #cmap=sns.color_palette(\"plasma\", 8))\n",
    "_=ax.set_ylabel('number of bouts')"
   ]
  },
  {
   "cell_type": "code",
   "execution_count": 18,
   "metadata": {},
   "outputs": [
    {
     "data": {
      "image/png": "[encoded data removed]",
      "text/plain": [
       "<matplotlib.figure.Figure at 0x130354940>"
      ]
     },
     "metadata": {
      "needs_background": "light"
     },
     "output_type": "display_data"
    }
   ],
   "source": [
    "fig, ax = plt.subplots(figsize=(5,8))\n",
    "ax = sns.pointplot(data=mP, x='engorged', y='logTotTime', color='k', join=False)\n",
    "sns.stripplot(data=mP, x='engorged', y='logTotTime', size=12, alpha=0.5, color='indigo')\n",
    "ax.set_ylabel('bout length (s)')\n",
    "_=plt.yticks(np.arange(-1, 2.5, 1), np.logspace(-1, 2, 4))"
   ]
  },
  {
   "cell_type": "code",
   "execution_count": null,
   "metadata": {},
   "outputs": [],
   "source": []
  }
 ],
 "metadata": {
  "kernelspec": {
   "display_name": "bs2",
   "language": "python",
   "name": "bs2"
  },
  "language_info": {
   "codemirror_mode": {
    "name": "ipython",
    "version": 3
   },
   "file_extension": ".py",
   "mimetype": "text/x-python",
   "name": "python",
   "nbconvert_exporter": "python",
   "pygments_lexer": "ipython3",
   "version": "3.6.5"
  },
  "varInspector": {
   "cols": {
    "lenName": 16,
    "lenType": 16,
    "lenVar": 40
   },
   "kernels_config": {
    "python": {
     "delete_cmd_postfix": "",
     "delete_cmd_prefix": "del ",
     "library": "var_list.py",
     "varRefreshCmd": "print(var_dic_list())"
    },
    "r": {
     "delete_cmd_postfix": ") ",
     "delete_cmd_prefix": "rm(",
     "library": "var_list.r",
     "varRefreshCmd": "cat(var_dic_list()) "
    }
   },
   "types_to_exclude": [
    "module",
    "function",
    "builtin_function_or_method",
    "instance",
    "_Feature"
   ],
   "window_display": false
  }
 },
 "nbformat": 4,
 "nbformat_minor": 2
}
