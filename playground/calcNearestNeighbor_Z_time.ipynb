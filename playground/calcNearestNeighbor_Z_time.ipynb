{
 "cells": [
  {
   "cell_type": "code",
   "execution_count": 1,
   "metadata": {},
   "outputs": [],
   "source": [
    "'''\n",
    "author: Felix Hol\n",
    "date: 2020 Nov 25\n",
    "content: code to calculate distance of nearest mosquito and identify its particle number\n",
    "'''\n",
    "\n",
    "%matplotlib inline\n",
    "import matplotlib as mpl\n",
    "import matplotlib.pyplot as plt\n",
    "import numpy as np\n",
    "import os\n",
    "import itertools as it\n",
    "import pandas as pd\n",
    "import pims\n",
    "import skimage\n",
    "from skimage import data, io, util\n",
    "from skimage.measure import label, regionprops\n",
    "from skimage.morphology import binary_dilation, erosion, dilation, opening, binary_closing, closing, white_tophat, remove_small_objects, disk, black_tophat, skeletonize, convex_hull_image\n",
    "import scipy\n",
    "import trackpy as tp\n",
    "import pylab\n",
    "import math\n",
    "from joblib import Parallel, delayed\n",
    "import multiprocessing\n",
    "from datetime import datetime\n",
    "from tqdm.notebook import tnrange, tqdm\n",
    "import pickle\n",
    "import glob\n",
    "import cv2 as cv"
   ]
  },
  {
   "cell_type": "code",
   "execution_count": 2,
   "metadata": {},
   "outputs": [],
   "source": [
    "#### set directories where to get images and where to store output, and specifics of experiment\n",
    "dataDir = '/home/felix/biteData/invitation//'\n",
    "saveDir = '/home/felix/biteData/invitation/'"
   ]
  },
  {
   "cell_type": "code",
   "execution_count": 3,
   "metadata": {},
   "outputs": [],
   "source": [
    "experiments = glob.glob(saveDir + 'aeg_ctrl*1105_tracks.pkl')"
   ]
  },
  {
   "cell_type": "code",
   "execution_count": 4,
   "metadata": {},
   "outputs": [
    {
     "data": {
      "text/plain": [
       "['/home/felix/biteData/invitation/aeg_ctrl1_2_1105_tracks.pkl',\n",
       " '/home/felix/biteData/invitation/aeg_ctrl3_4_1105_tracks.pkl']"
      ]
     },
     "execution_count": 4,
     "metadata": {},
     "output_type": "execute_result"
    }
   ],
   "source": [
    "experiments"
   ]
  },
  {
   "cell_type": "code",
   "execution_count": 5,
   "metadata": {},
   "outputs": [
    {
     "data": {
      "application/vnd.jupyter.widget-view+json": {
       "model_id": "7b43dd1cd3ff45a99333abd3f87025bc",
       "version_major": 2,
       "version_minor": 0
      },
      "text/plain": [
       "HBox(children=(IntProgress(value=0, max=2), HTML(value='')))"
      ]
     },
     "metadata": {},
     "output_type": "display_data"
    },
    {
     "name": "stdout",
     "output_type": "stream",
     "text": [
      "225294\n",
      "/home/felix/biteData/invitation/aeg_ctrl1_2_1105_tracks.pkl\n",
      "29140\n"
     ]
    },
    {
     "data": {
      "application/vnd.jupyter.widget-view+json": {
       "model_id": "f5ca023b42b8481fa061505e1c823940",
       "version_major": 2,
       "version_minor": 0
      },
      "text/plain": [
       "HBox(children=(IntProgress(value=0, max=17215), HTML(value='')))"
      ]
     },
     "metadata": {},
     "output_type": "display_data"
    },
    {
     "name": "stdout",
     "output_type": "stream",
     "text": [
      "\n",
      "29140\n",
      "18980\n"
     ]
    },
    {
     "data": {
      "application/vnd.jupyter.widget-view+json": {
       "model_id": "ffe47a4979bb498a98ba6f9c435e0f1b",
       "version_major": 2,
       "version_minor": 0
      },
      "text/plain": [
       "HBox(children=(IntProgress(value=0, max=7055), HTML(value='')))"
      ]
     },
     "metadata": {},
     "output_type": "display_data"
    },
    {
     "name": "stdout",
     "output_type": "stream",
     "text": [
      "\n",
      "150177\n",
      "/home/felix/biteData/invitation/aeg_ctrl3_4_1105_tracks.pkl\n",
      "14975\n"
     ]
    },
    {
     "data": {
      "application/vnd.jupyter.widget-view+json": {
       "model_id": "c1722112b6844fa396a82a14f5db254d",
       "version_major": 2,
       "version_minor": 0
      },
      "text/plain": [
       "HBox(children=(IntProgress(value=0, max=8932), HTML(value='')))"
      ]
     },
     "metadata": {},
     "output_type": "display_data"
    },
    {
     "name": "stdout",
     "output_type": "stream",
     "text": [
      "\n",
      "14975\n",
      "9059\n"
     ]
    },
    {
     "data": {
      "application/vnd.jupyter.widget-view+json": {
       "model_id": "8d33fdc157594b7c951085530429a86a",
       "version_major": 2,
       "version_minor": 0
      },
      "text/plain": [
       "HBox(children=(IntProgress(value=0, max=3016), HTML(value='')))"
      ]
     },
     "metadata": {},
     "output_type": "display_data"
    },
    {
     "name": "stdout",
     "output_type": "stream",
     "text": [
      "\n",
      "\n"
     ]
    }
   ],
   "source": [
    "'''\n",
    "create a new dataframe based on tracking dataframe having nearest neighbor distances for all particles.\n",
    "keepN truncates tracks longer than N points\n",
    "'''\n",
    "\n",
    "areaWidth = 2806\n",
    "areaHigth = 2736\n",
    "keepN = 50\n",
    "Area = areaWidth * areaHigth ### in pix, check what actualy numbers should be (e.g. ~1893 * 1911 for invitation)\n",
    "perimeter = 2 * areaHigth + 2 * areaWidth ### in pix, check what actualy numbers should be (~7608 for invitation)\n",
    "\n",
    "\n",
    "\n",
    "for exp in tqdm(experiments):\n",
    "    T = pd.read_pickle(exp)\n",
    "    for p in T.particle.unique():\n",
    "        if len(T[(T.particle == p)]) > keepN + 1:\n",
    "            start = np.min(T.loc[T.particle == p].frame)\n",
    "            T = T.drop(T[(T.particle == p) & (T.frame > start + keepN)].index)\n",
    "    T['nnDist'] = np.nan\n",
    "    T['nnP'] = np.nan\n",
    "\n",
    "    for f in tqdm(T.frame.unique()):\n",
    "        t = T.loc[T.frame == f]\n",
    "        if len(t) > 1:\n",
    "            for p in t.particle.unique():\n",
    "                xp = t.loc[t.particle == p].x.values\n",
    "                yp = t.loc[t.particle == p].y.values\n",
    "                dist = []\n",
    "                others = np.delete(t.particle.unique(), np.where(t.particle.unique() == p))\n",
    "                for o in others:\n",
    "                    xo = t.loc[t.particle == o].x.values\n",
    "                    yo = t.loc[t.particle == o].y.values\n",
    "                    D = np.sqrt(np.abs(xp - xo)**2 + np.abs(yp - yo)**2)\n",
    "                    dist = np.append(dist, D)\n",
    "                T.loc[T.loc[(T.frame == f) & (T.particle == p)].index, 'nnDist'] = np.min(dist)\n",
    "                T.loc[T.loc[(T.frame == f) & (T.particle == p)].index, 'nnP'] = int(others[np.argmin(dist)])\n",
    "    T.to_pickle(saveDir + os.path.splitext(os.path.basename(exp))[0] + 'NN_keep_'+ str(keepN) + '.pkl')\n",
    "    P = T.copy()\n",
    "    P = P[~P.nnDist.isna()]\n",
    "    \n",
    "    NN = pd.DataFrame(columns=['frame', 'N', 'nnDo', 'nnDe'])\n",
    "    for f in tqdm(P.frame.unique()):\n",
    "        pP = P.loc[P.frame == f]\n",
    "        N = len(pP)\n",
    "        nnDo = np.mean(pP.nnDist)\n",
    "        nnDe = 1/2 * np.sqrt(Area / N) + (0.0514 * perimeter) / N + (0.041 * perimeter) / (N * np.sqrt(N))\n",
    "        NN = NN.append({'frame': f, 'N': N, 'nnDo': nnDo, 'nnDe': nnDe}, ignore_index = True)\n",
    "\n",
    "    NN['nnI'] = NN.nnDo / NN.nnDe  \n",
    "    NN['Z'] = (NN.nnDo - NN.nnDe) / (0.26136 / (np.sqrt((NN.N ** 2) / Area)))\n",
    "    NN['Zabs'] = np.abs(NN.Z)\n",
    "    NN.to_pickle(saveDir + os.path.splitext(os.path.basename(exp))[0] + 'NNframe_keep_'+ str(keepN) + '.pkl')"
   ]
  },
  {
   "cell_type": "code",
   "execution_count": null,
   "metadata": {},
   "outputs": [],
   "source": []
  },
  {
   "cell_type": "code",
   "execution_count": null,
   "metadata": {},
   "outputs": [],
   "source": []
  }
 ],
 "metadata": {
  "kernelspec": {
   "display_name": "bs",
   "language": "python",
   "name": "bs"
  },
  "language_info": {
   "codemirror_mode": {
    "name": "ipython",
    "version": 3
   },
   "file_extension": ".py",
   "mimetype": "text/x-python",
   "name": "python",
   "nbconvert_exporter": "python",
   "pygments_lexer": "ipython3",
   "version": "3.6.8"
  },
  "varInspector": {
   "cols": {
    "lenName": 16,
    "lenType": 16,
    "lenVar": 40
   },
   "kernels_config": {
    "python": {
     "delete_cmd_postfix": "",
     "delete_cmd_prefix": "del ",
     "library": "var_list.py",
     "varRefreshCmd": "print(var_dic_list())"
    },
    "r": {
     "delete_cmd_postfix": ") ",
     "delete_cmd_prefix": "rm(",
     "library": "var_list.r",
     "varRefreshCmd": "cat(var_dic_list()) "
    }
   },
   "types_to_exclude": [
    "module",
    "function",
    "builtin_function_or_method",
    "instance",
    "_Feature"
   ],
   "window_display": false
  }
 },
 "nbformat": 4,
 "nbformat_minor": 2
}
