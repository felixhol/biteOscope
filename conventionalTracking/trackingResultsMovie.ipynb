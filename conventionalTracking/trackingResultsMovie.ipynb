{
 "cells": [
  {
   "cell_type": "code",
   "execution_count": 3,
   "metadata": {},
   "outputs": [],
   "source": [
    "'''\n",
    "author: Felix Hol\n",
    "date: 2020 Jun\n",
    "make video of tracking results. \n",
    "'''\n",
    "\n",
    "%matplotlib inline\n",
    "import matplotlib as mpl\n",
    "import matplotlib.pyplot as plt\n",
    "import numpy as np\n",
    "# %matplotlib inline\n",
    "# import matplotlib as mpl\n",
    "# import matplotlib.pyplot as plt\n",
    "import os\n",
    "import itertools as it\n",
    "import pandas as pd\n",
    "import pims\n",
    "import skimage\n",
    "from skimage import data, io, util\n",
    "from skimage.measure import label, regionprops\n",
    "from skimage.morphology import binary_dilation, erosion, dilation, opening, binary_closing, closing, white_tophat, remove_small_objects, disk, black_tophat, skeletonize, convex_hull_image\n",
    "import scipy\n",
    "import trackpy as tp\n",
    "import pylab\n",
    "import math\n",
    "from joblib import Parallel, delayed\n",
    "import multiprocessing\n",
    "from datetime import datetime\n",
    "from tqdm import tnrange, tqdm\n",
    "import pickle\n",
    "import glob\n",
    "import cv2 as cv"
   ]
  },
  {
   "cell_type": "code",
   "execution_count": 6,
   "metadata": {},
   "outputs": [],
   "source": [
    "#### set directories where to get images and where to store output, and specifics of experiment\n",
    "\n",
    "dataDir = '/Users/felix/Documents/mosquitoes/mosquitoData/smallTest/'\n",
    "saveDir = '/Users/felix/biteOscope_test/test/dump/'\n",
    "species = 'alb'\n",
    "mosAge = 0      #### mosquito age in days\n",
    "mosDataName = 'test'\n",
    "frames = pims.ImageSequence(dataDir+'/*.tif', as_grey=True)\n",
    "startMovie = 0\n",
    "stopMovie = len(frames)"
   ]
  },
  {
   "cell_type": "code",
   "execution_count": 7,
   "metadata": {},
   "outputs": [],
   "source": [
    "tFull = pd.read_pickle(saveDir + mosDataName + '_tracks.pkl')"
   ]
  },
  {
   "cell_type": "code",
   "execution_count": 8,
   "metadata": {},
   "outputs": [],
   "source": [
    "ccc = plt.cm.get_cmap('hsv', 6)\n",
    "\n",
    "for i in tFull.frame:\n",
    "        if i > startMovie and i < stopMovie:\n",
    "            t = tFull.loc[tFull.frame == i]\n",
    "            plt.figure(figsize=(15,12))\n",
    "            plt.imshow(frames[i], cmap = 'gray', alpha = 0.9)\n",
    "            for p in t.particle:\n",
    "                P = t.loc[t.particle == p]\n",
    "                plt.plot(P.x, P.y, '.', color=ccc(int(P.particle.values[0] - 1)%5))\n",
    "                plt.text(P.x,P.y, str(int(P.particle.values[0])), color=ccc(int(P.particle.values[0] - 1)%5), fontsize=20)\n",
    "            plt.axis('off')\n",
    "            plt.savefig(saveDir + 'testMovie/' + 'test' + str(i) + '.png', bbox_inches='tight')\n",
    "            plt.clf()\n",
    "            plt.close()"
   ]
  },
  {
   "cell_type": "code",
   "execution_count": null,
   "metadata": {},
   "outputs": [],
   "source": []
  }
 ],
 "metadata": {
  "kernelspec": {
   "display_name": "bs2",
   "language": "python",
   "name": "bs2"
  },
  "language_info": {
   "codemirror_mode": {
    "name": "ipython",
    "version": 3
   },
   "file_extension": ".py",
   "mimetype": "text/x-python",
   "name": "python",
   "nbconvert_exporter": "python",
   "pygments_lexer": "ipython3",
   "version": "3.6.5"
  },
  "varInspector": {
   "cols": {
    "lenName": 16,
    "lenType": 16,
    "lenVar": 40
   },
   "kernels_config": {
    "python": {
     "delete_cmd_postfix": "",
     "delete_cmd_prefix": "del ",
     "library": "var_list.py",
     "varRefreshCmd": "print(var_dic_list())"
    },
    "r": {
     "delete_cmd_postfix": ") ",
     "delete_cmd_prefix": "rm(",
     "library": "var_list.r",
     "varRefreshCmd": "cat(var_dic_list()) "
    }
   },
   "types_to_exclude": [
    "module",
    "function",
    "builtin_function_or_method",
    "instance",
    "_Feature"
   ],
   "window_display": false
  }
 },
 "nbformat": 4,
 "nbformat_minor": 2
}
