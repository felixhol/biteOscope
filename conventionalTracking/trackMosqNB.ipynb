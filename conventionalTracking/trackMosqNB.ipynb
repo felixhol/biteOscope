{
 "cells": [
  {
   "cell_type": "code",
   "execution_count": null,
   "metadata": {},
   "outputs": [],
   "source": [
    "'''\n",
    "author: Felix Hol\n",
    "date: 2020 Oct 20\n",
    "content: code to track mosquitoes, several filtering parameters will need tweaking depending on imaging parameters.\n",
    "Output is:\n",
    "1) a pickle containing all detected centroids per frame\n",
    "2) a pickle containing centroids tracked over time (/frame)\n",
    "'''\n",
    "\n",
    "%matplotlib inline\n",
    "import matplotlib as mpl\n",
    "import matplotlib.pyplot as plt\n",
    "import numpy as np\n",
    "import os\n",
    "import itertools as it\n",
    "import pandas as pd\n",
    "import pims\n",
    "import skimage\n",
    "from skimage import data, io, util\n",
    "from skimage.measure import label, regionprops\n",
    "from skimage.morphology import binary_dilation, erosion, dilation, opening, binary_closing, closing, white_tophat, remove_small_objects, disk, black_tophat, skeletonize, convex_hull_image\n",
    "import scipy\n",
    "import trackpy as tp\n",
    "import pylab\n",
    "import math\n",
    "from joblib import Parallel, delayed\n",
    "import multiprocessing\n",
    "from datetime import datetime\n",
    "from tqdm import tnrange, tqdm\n",
    "import pickle\n",
    "import glob\n",
    "import cv2 as cv"
   ]
  },
  {
   "cell_type": "code",
   "execution_count": null,
   "metadata": {},
   "outputs": [],
   "source": [
    "#### set directories where to get images and where to store output, and specifics of experiment\n",
    "\n",
    "# dataDir = '/run/user/1001/gvfs/smb-share:server=gaia.pasteur.fr,share=%40ivi/BITES_BLOOD_BEHAVIOR/P3/200923_KPPTN/ctrl02/'\n",
    "dataDir = '/mnt/DATA/biteData/P3/200930_KPPTN/denv04/'\n",
    "saveDir = '/home/felix/biteData/P3/200930_processed/'\n",
    "species = 'aeg'\n",
    "mosAge = 21      #### mosquito age in days\n",
    "mosDataName = 'aeg_denv04_0930'\n",
    "frames = pims.ImageSequence(dataDir+'/*.png')"
   ]
  },
  {
   "cell_type": "code",
   "execution_count": null,
   "metadata": {},
   "outputs": [],
   "source": [
    "borderToExcludeXl = 250           #### excludes the outer n pixels of the left edge of the frame \n",
    "borderToExcludeXr = 140           #### excludes the outer n pixels of the right edge of the frame \n",
    "borderToExcludeYt = 100           #### excludes the outer n pixels of the top edge of the frame \n",
    "borderToExcludeYb = 220           #### excludes the outer n pixels of the bottom edge of the frame \n",
    "startFrame = 500              #### frame to start processing\n",
    "stopFrame = len(frames)             #### frame to stop processing\n",
    "startFrameBG = startFrame    #### frame to start background image\n",
    "stopFrameBG = stopFrame     #### frame to stop background image (usually last frame unless immobile mosquitoes)\n",
    "numBGframes = 20            #### number of frames to use for background image\n",
    "mThreshold = 70              #### threshold used to create binary image of mosquitoes after BG subtraction\n",
    "searchRadius = 450            #### used for tracking, maximum movement allowed between frames"
   ]
  },
  {
   "cell_type": "code",
   "execution_count": null,
   "metadata": {},
   "outputs": [],
   "source": [
    "os.chdir(saveDir)\n",
    "len(frames)"
   ]
  },
  {
   "cell_type": "code",
   "execution_count": null,
   "metadata": {},
   "outputs": [],
   "source": [
    "#### create background image (BG image can be updated periodically - usually not necessary)\n",
    "\n",
    "def getBG(start, stop, step):\n",
    "    numBGframes = int(np.ceil((stop - start) /step) + 1)\n",
    "    frameSize = frames[1].shape\n",
    "    BG = np.zeros([frameSize[0], frameSize[1], numBGframes])\n",
    "\n",
    "    j = 1\n",
    "    for i in range(start, stop, step):\n",
    "        j += 1\n",
    "        BG[:, :, j - 1] = np.invert(frames[i])    \n",
    "    BG = np.median(BG, axis=2)\n",
    "    return BG"
   ]
  },
  {
   "cell_type": "code",
   "execution_count": null,
   "metadata": {},
   "outputs": [],
   "source": [
    "### compute background image using 30 frames (uniformly distributed over start - stop background)\n",
    "### check resulting image to make sure non-moving mosquitoes did not become part of BG image\n",
    "plt.figure(figsize=(18,12))\n",
    "BG = getBG(startFrameBG, stopFrameBG, int(stopFrameBG / numBGframes)) \n",
    "plt.imshow(BG)"
   ]
  },
  {
   "cell_type": "code",
   "execution_count": null,
   "metadata": {},
   "outputs": [],
   "source": [
    "''' IF (and only if) there are immobile mosquitoes (=mosquitoes that do not move for the majority of frames) \n",
    "that cannot be removed by selecting a different range of the dataset, these can be blurred in the background \n",
    "image such that they are included in the tracking dataset (this may not be desirable for dead mosquitoes).\n",
    "\n",
    "'''\n",
    "\n",
    "blurX = [1450] #### X coordinate of all mosquitoes to be blurred in BG\n",
    "blurY = [1150] #### Y coordinate of all mosquitoes to be blurred in BG\n",
    "blurHW = 100\n",
    "blurEdge = 10\n",
    "numBlur = 5\n",
    "sigma = 20\n",
    "\n",
    "BGblur = getBG(startFrameBG, stopFrameBG, int(stopFrameBG / numBGframes))\n",
    "\n",
    "for j in range(0,len(blurX)):\n",
    "    for i in range(1,numBlur):\n",
    "        BGblur[blurY[j] - blurHW : blurY[j] + blurHW, blurX[j] - blurHW : blurX[j] + blurHW] = \\\n",
    "        skimage.filters.gaussian(BGblur[blurY[j] - blurHW : blurY[j] + blurHW, blurX[j] - blurHW : blurX[j] + blurHW], sigma)\n",
    "\n",
    "    BGblur[blurY[j] - (blurHW + blurEdge) : blurY[j] + (blurHW + blurEdge), blurX[j] - (blurHW + blurEdge) : blurX[j] + (blurHW + blurEdge)] = \\\n",
    "    skimage.filters.gaussian(BGblur[blurY[j] - (blurHW + blurEdge) : blurY[j] + (blurHW + blurEdge), blurX[j] - (blurHW + blurEdge) : blurX[j] + (blurHW + blurEdge)], sigma / 2)\n",
    "\n",
    "    BGblur[blurY[j] - (blurHW + blurEdge*2) : blurY[j] + (blurHW + blurEdge*2), blurX[j] - (blurHW + blurEdge*2) : blurX[j] + (blurHW + blurEdge*2)] = \\\n",
    "    skimage.filters.gaussian(BGblur[blurY[j] - (blurHW + blurEdge*2) : blurY[j] + (blurHW + blurEdge*2), blurX[j] - (blurHW + blurEdge*2) : blurX[j] + (blurHW + blurEdge*2)], sigma / 4)"
   ]
  },
  {
   "cell_type": "code",
   "execution_count": null,
   "metadata": {},
   "outputs": [],
   "source": [
    "#### ONLY if using locally blurred BG image\n",
    "plt.figure(figsize=(18,12))\n",
    "plt.imshow(BGblur)"
   ]
  },
  {
   "cell_type": "code",
   "execution_count": null,
   "metadata": {},
   "outputs": [],
   "source": [
    "def trackMosq2(i, mThreshold, BG, borderToExcludeXl, borderToExcludeXr, borderToExcludeYt, borderToExcludeYb):\n",
    "    frameSize = frames[1].shape\n",
    "    # borderToExclude = 0\n",
    "    selem1 = disk(6)\n",
    "    selem2 = disk(1)\n",
    "    A = np.zeros(frameSize)\n",
    "    A = A + np.invert(frames[i])\n",
    "    B = A - BG\n",
    "    if B.min() > 0:\n",
    "        Bm = B - B.min()\n",
    "    else:\n",
    "        Bm = B\n",
    "    Bt = Bm > mThreshold\n",
    "    Bts = remove_small_objects(Bt, min_size=300)\n",
    "    Be = erosion(Bts, selem2)\n",
    "    Bf = remove_small_objects(Be, min_size=200)\n",
    "    Bc = binary_closing(Bf, selem1)\n",
    "    C = B * Bc\n",
    "    eroded = erosion(C, selem2)\n",
    "    eroded = skimage.filters.gaussian(eroded, 4)\n",
    "    eroded[eroded < 0] = 0\n",
    "    erL = label(eroded>0)\n",
    "    erR = regionprops(erL, C)#, coordinates='xy')\n",
    "    l = 1\n",
    "    for props in erR:   #### this filters out objects that are way too larger or small and excludes detections near the edge when desired\n",
    "        if props.area > 40000:\n",
    "            erL[erL==l] = 0\n",
    "        if props.area < 800:\n",
    "            erL[erL==l] = 0\n",
    "        if props.major_axis_length > 300:\n",
    "            erL[erL==l] = 0\n",
    "        if props.centroid[0] < borderToExcludeYt or props.centroid[1] < borderToExcludeXl or props.centroid[0] > frameSize[0] - borderToExcludeYb or props.centroid[1] > frameSize[1] - borderToExcludeXr:\n",
    "            erL[erL==l] = 0\n",
    "        l = l +1\n",
    "    erLf = label(erL>0)\n",
    "    erodedF = eroded * (erLf > 0)\n",
    "    erRf = regionprops(erLf, C)#, coordinates='xy')\n",
    "    centroids = np.zeros([len(erRf), 2])\n",
    "    numCent = 0\n",
    "    for props in erRf:\n",
    "        centroids[numCent] = props.centroid\n",
    "        numCent += 1\n",
    "    cenS= centroids.shape; numCen = cenS[0]\n",
    "    frameNo = i\n",
    "    frameNoCen = np.zeros((numCen,1), dtype=np.int)\n",
    "    frameNoCen[:] = frameNo\n",
    "    centroidsF = np.hstack((centroids,frameNoCen))\n",
    "    numCents = centroidsF.shape[0]\n",
    "    return centroidsF, numCents"
   ]
  },
  {
   "cell_type": "code",
   "execution_count": null,
   "metadata": {},
   "outputs": [],
   "source": [
    "#####testing...., use this cell to check a few frames and verify that all mosquitoes are detected (red dot)\n",
    "i = 5880\n",
    "centroidsF, numCents = trackMosq2(i, mThreshold, BGblur, borderToExcludeXl, borderToExcludeXr, borderToExcludeYt, borderToExcludeYb)\n",
    "plt.figure(figsize=(18,12))\n",
    "plt.imshow(frames[i], cmap = 'gray')\n",
    "# plt.imshow(eroded)\n",
    "# plt.plot(coordinatesF[:,1],coordinatesF[:,0],'r.')\n",
    "plt.plot(centroidsF[:,1],centroidsF[:,0],'r.')"
   ]
  },
  {
   "cell_type": "code",
   "execution_count": null,
   "metadata": {},
   "outputs": [],
   "source": []
  },
  {
   "cell_type": "code",
   "execution_count": null,
   "metadata": {},
   "outputs": [],
   "source": [
    "num_cores = multiprocessing.cpu_count()\n",
    "\n",
    "print('detecting centriods of mosquitoes in frames ' + str(startFrame) + ' - ' + str(stopFrame) + ' using ' + str(num_cores) + ' cores')\n",
    "\n",
    "results = Parallel(n_jobs=num_cores)(delayed(trackMosq2)(i, mThreshold, BG, borderToExcludeXl, borderToExcludeXr, borderToExcludeYt, borderToExcludeYb) for i in tqdm(range(startFrame, stopFrame)))\n",
    "\n",
    "centroidsAllT = np.zeros((1,3))\n",
    "\n",
    "for i in range(len(results)):\n",
    "    centroidsAllT = np.vstack((centroidsAllT,results[i][0]))\n",
    "\n",
    "centroidPickleName = saveDir + mosDataName + '_centroids.pkl'\n",
    "    \n",
    "with open(centroidPickleName, 'wb') as f:\n",
    "    pickle.dump(centroidsAllT, f)\n",
    "    \n",
    "### convert centroids to dataframe\n",
    "\n",
    "df_cenAllT = pd.DataFrame(centroidsAllT)\n",
    "df_cenAllT = df_cenAllT.rename(columns={0: \"y\", 1: \"x\", 2: \"frame\"})\n",
    "\n",
    "### track (link mosquitoes across frames). Adjust search radius depending on how crowded the images are\n",
    "\n",
    "print('linking centroids through time using search radius: ' + str(searchRadius))\n",
    "\n",
    "tFull = tp.link_df(df_cenAllT, searchRadius, memory=3)\n",
    "\n",
    "tFull['species'] = species\n",
    "tFull['age'] = mosAge\n",
    "\n",
    "tFull = tFull.drop([0])\n",
    "\n",
    "trackPickleName = saveDir + mosDataName + '_tracks.pkl'\n",
    "tFull.to_pickle(trackPickleName)\n",
    "\n",
    "print('output saved at ' + saveDir)"
   ]
  },
  {
   "cell_type": "code",
   "execution_count": null,
   "metadata": {},
   "outputs": [],
   "source": []
  }
 ],
 "metadata": {
  "kernelspec": {
   "display_name": "bs",
   "language": "python",
   "name": "bs"
  },
  "language_info": {
   "codemirror_mode": {
    "name": "ipython",
    "version": 3
   },
   "file_extension": ".py",
   "mimetype": "text/x-python",
   "name": "python",
   "nbconvert_exporter": "python",
   "pygments_lexer": "ipython3",
   "version": "3.6.5"
  },
  "varInspector": {
   "cols": {
    "lenName": 16,
    "lenType": 16,
    "lenVar": 40
   },
   "kernels_config": {
    "python": {
     "delete_cmd_postfix": "",
     "delete_cmd_prefix": "del ",
     "library": "var_list.py",
     "varRefreshCmd": "print(var_dic_list())"
    },
    "r": {
     "delete_cmd_postfix": ") ",
     "delete_cmd_prefix": "rm(",
     "library": "var_list.r",
     "varRefreshCmd": "cat(var_dic_list()) "
    }
   },
   "types_to_exclude": [
    "module",
    "function",
    "builtin_function_or_method",
    "instance",
    "_Feature"
   ],
   "window_display": false
  }
 },
 "nbformat": 4,
 "nbformat_minor": 2
}
