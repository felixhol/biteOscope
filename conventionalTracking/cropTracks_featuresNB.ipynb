{
 "cells": [
  {
   "cell_type": "code",
   "execution_count": 12,
   "metadata": {},
   "outputs": [],
   "source": [
    "'''\n",
    "author: Felix Hol\n",
    "date: 2019 Oct 24\n",
    "content: code to track mosquitoes, several filtering parameters will need tweaking depending on imaging parameters.\n",
    "'''\n",
    "\n",
    "import numpy as np\n",
    "# %matplotlib inline\n",
    "# import matplotlib as mpl\n",
    "# import matplotlib.pyplot as plt\n",
    "import os\n",
    "import itertools as it\n",
    "import pandas as pd\n",
    "from pandas import DataFrame, Series  # for convenience\n",
    "import pims\n",
    "import skimage\n",
    "from skimage import data, io, util\n",
    "from skimage.color import rgb2gray\n",
    "from skimage.measure import label, regionprops\n",
    "from skimage.segmentation import active_contour\n",
    "from skimage.morphology import binary_dilation, erosion, dilation, opening, binary_closing, closing, white_tophat, remove_small_objects, disk, black_tophat, skeletonize, convex_hull_image\n",
    "from scipy import ndimage as ndi\n",
    "import scipy\n",
    "import trackpy as tp\n",
    "import pylab\n",
    "import math\n",
    "from joblib import Parallel, delayed\n",
    "import multiprocessing\n",
    "from datetime import datetime\n",
    "from tqdm import tnrange, tqdm\n",
    "import pickle\n",
    "import glob\n",
    "import cv2 as cv"
   ]
  },
  {
   "cell_type": "code",
   "execution_count": 8,
   "metadata": {},
   "outputs": [],
   "source": [
    "#### set directories where to get images and where to store output, and specifics of experiment/analysis\n",
    "\n",
    "dataDir = '/Users/felix/Documents/mosquitoes/mosquitoData/smallTest/'\n",
    "saveDir = '/Users/felix/biteOscope_test/test/dump/'\n",
    "mosDataName = 'test'\n",
    "frames = pims.ImageSequence(dataDir+'/*.tif', as_grey=True)\n",
    "ROIwidth = 600   #### crop frames to this width\n",
    "ROIheigth = 600   #### crop frames to this heigth\n",
    "tracksPickle = saveDir + mosDataName + '_tracks.pkl'\n",
    "minTrackLength = 3"
   ]
  },
  {
   "cell_type": "code",
   "execution_count": 9,
   "metadata": {},
   "outputs": [],
   "source": [
    "def mosStatsAndCrop(tFull, p, ROIwidth, ROIheigth):\n",
    "    os.mkdir(saveDir + mosDataName + 'crops_p' + str(p))\n",
    "    frameWidth = 2048\n",
    "    frameHeigth = 2048\n",
    "    halfROIwidth = ROIwidth / 2\n",
    "    halfROIheigth = ROIheigth / 2\n",
    "    framesPerSecond = 10\n",
    "    s = np.linspace(0, 2*np.pi, 400)\n",
    "\n",
    "    ### 42.65 culture flask is 42.65 mm (measured from inner most low rim that is continues)\n",
    "    ### that is 1700 pixels in a typical field of view, adjust this number to exact number of pixels\n",
    "\n",
    "    mmPerPix = 42.65 / 1700\n",
    "\n",
    "    t = tFull.loc[tFull['particle'] == p].copy()\n",
    "\n",
    "    t['distance'] = ''\n",
    "    t['velocity'] = ''\n",
    "    t['bellyWidth'] = ''\n",
    "    t['bellyArea'] = ''\n",
    "    t['mosqLength'] = ''\n",
    "\n",
    "\n",
    "    indexes = t.index\n",
    "\n",
    "    #### use below to restrict to first n frames of each track (if n time points exist in track)\n",
    "    # if len(t) > 2000:\n",
    "    #     t = t[:2000]\n",
    "\n",
    "    indexCounter = 0\n",
    "\n",
    "    for index, row in it.islice(t.iterrows(), None, len(t) - 1):\n",
    "        d = math.sqrt((t.loc[indexes[indexCounter + 1]].x - row.x) ** 2 + (t.loc[indexes[indexCounter + 1]].y - row.y) ** 2)\n",
    "        numFrames = t.loc[indexes[indexCounter + 1]].frame - row.frame\n",
    "        indexCounter += 1\n",
    "        d = d * mmPerPix\n",
    "        d = d / numFrames\n",
    "        velocity = d * framesPerSecond\n",
    "        t.at[index, 'distance'] = d\n",
    "        t.at[index, 'velocity'] = velocity\n",
    "        if row['x'] < halfROIwidth:\n",
    "            x_start = 0\n",
    "            x_stop = ROIwidth\n",
    "            newX = row.x\n",
    "        elif row['x'] + halfROIwidth > frameWidth:\n",
    "            x_start = frameWidth - ROIwidth\n",
    "            x_stop = frameWidth\n",
    "            newX = halfROIwidth + (halfROIwidth - (frameWidth - row.x))\n",
    "        else:\n",
    "            x_start = row['x'] - halfROIwidth\n",
    "            x_stop = row['x'] + halfROIwidth\n",
    "            newX = halfROIwidth\n",
    "        if row['y'] < halfROIwidth:\n",
    "            y_start = 0\n",
    "            y_stop = ROIwidth\n",
    "            newY = row.y\n",
    "        elif row['y'] + halfROIwidth > frameWidth:\n",
    "            y_start = frameWidth - ROIwidth\n",
    "            y_stop = frameWidth\n",
    "            newY = halfROIheigth + (halfROIheigth - (frameHeigth - row.y))\n",
    "        else:\n",
    "            y_start = row['y'] - halfROIwidth\n",
    "            y_stop = row['y'] + halfROIwidth\n",
    "            newY = halfROIheigth\n",
    "        currFrame = frames[row['frame']]\n",
    "        currROI = currFrame[int(y_start):int(y_stop), int(x_start):int(x_stop)]\n",
    "        imageName = saveDir + mosDataName + 'crops_p' + str(p) +'/crop_p' + str(int(p)).zfill(3) + \"_f\" + str(int(row['frame'])).zfill(6) + \".png\"\n",
    "        skimage.io.imsave(imageName, currROI)\n",
    "\n",
    "        x = newX + 100*np.cos(s)\n",
    "        y = newY + 100*np.sin(s)\n",
    "        init = np.array([x, y]).T\n",
    "        imBTH = skimage.morphology.black_tophat(currROI, disk(4))\n",
    "        imBT = imBTH > 7\n",
    "        F = np.copy(currROI)\n",
    "        F[F > np.median(currROI)] = np.median(currROI)\n",
    "        F[imBT] = np.median(F)\n",
    "        F[currROI>70] = np.median(F)\n",
    "        F = skimage.filters.gaussian(F, 4)\n",
    "        snake = active_contour(F*20, init, alpha=0.5, beta=8, gamma=0.001, w_edge=1, w_line=0)\n",
    "        snakeD = np.expand_dims(snake, axis=1)\n",
    "        rotRect = cv.minAreaRect(snakeD.astype(int))\n",
    "        t.at[index, 'bellyWidth'] = np.min(rotRect[1]) * mmPerPix\n",
    "        t.at[index, 'mosqLength'] = np.max(rotRect[1]) * mmPerPix\n",
    "        t.at[index, 'bellyArea'] = cv.contourArea(snakeD.astype(int))\n",
    "        t[\"mosqLength\"] = pd.to_numeric(t[\"mosqLength\"])\n",
    "        t[\"distance\"] = pd.to_numeric(t[\"distance\"])\n",
    "        t[\"velocity\"] = pd.to_numeric(t[\"velocity\"])\n",
    "        t = t.replace(r'^\\s*$', np.nan, regex=True)\n",
    "        pickleName = saveDir + mosDataName +  'crops_p'+ str(p)+ '/' + mosDataName + '_p' + str(p) + '_tStats' + '.pkl'\n",
    "        t.to_pickle(pickleName)"
   ]
  },
  {
   "cell_type": "code",
   "execution_count": 10,
   "metadata": {},
   "outputs": [],
   "source": [
    "os.chdir(saveDir)\n",
    "with open(tracksPickle, 'rb') as f:\n",
    "    tFull = pickle.load(f)\n",
    "\n",
    "tFilt = tp.filter_stubs(tFull, minTrackLength)"
   ]
  },
  {
   "cell_type": "code",
   "execution_count": 14,
   "metadata": {},
   "outputs": [
    {
     "name": "stdout",
     "output_type": "stream",
     "text": [
      "found 2 tracks to process. Total number of frames to process: 21\n"
     ]
    },
    {
     "data": {
      "text/plain": [
       "[None, None]"
      ]
     },
     "execution_count": 14,
     "metadata": {},
     "output_type": "execute_result"
    }
   ],
   "source": [
    "mosToAnalyze = tFilt.particle.unique()\n",
    "# mosToAnalyze = [370]\n",
    "\n",
    "print('found ' + str(len(mosToAnalyze)) + ' tracks to process. Total number of frames to process: ' + str(len(tFilt)))\n",
    "\n",
    "num_cores = multiprocessing.cpu_count()\n",
    "Parallel(n_jobs=num_cores)(delayed(mosStatsAndCrop)(tFull, p,  ROIwidth, ROIheigth) for p in mosToAnalyze)"
   ]
  },
  {
   "cell_type": "code",
   "execution_count": null,
   "metadata": {},
   "outputs": [],
   "source": []
  }
 ],
 "metadata": {
  "kernelspec": {
   "display_name": "bs2",
   "language": "python",
   "name": "bs2"
  },
  "language_info": {
   "codemirror_mode": {
    "name": "ipython",
    "version": 3
   },
   "file_extension": ".py",
   "mimetype": "text/x-python",
   "name": "python",
   "nbconvert_exporter": "python",
   "pygments_lexer": "ipython3",
   "version": "3.6.5"
  },
  "varInspector": {
   "cols": {
    "lenName": 16,
    "lenType": 16,
    "lenVar": 40
   },
   "kernels_config": {
    "python": {
     "delete_cmd_postfix": "",
     "delete_cmd_prefix": "del ",
     "library": "var_list.py",
     "varRefreshCmd": "print(var_dic_list())"
    },
    "r": {
     "delete_cmd_postfix": ") ",
     "delete_cmd_prefix": "rm(",
     "library": "var_list.r",
     "varRefreshCmd": "cat(var_dic_list()) "
    }
   },
   "types_to_exclude": [
    "module",
    "function",
    "builtin_function_or_method",
    "instance",
    "_Feature"
   ],
   "window_display": false
  }
 },
 "nbformat": 4,
 "nbformat_minor": 2
}
